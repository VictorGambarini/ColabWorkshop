{
  "nbformat": 4,
  "nbformat_minor": 0,
  "metadata": {
    "colab": {
      "provenance": [],
      "collapsed_sections": [],
      "toc_visible": true,
      "include_colab_link": true
    },
    "kernelspec": {
      "name": "python3",
      "display_name": "Python 3"
    },
    "language_info": {
      "name": "python"
    }
  },
  "cells": [
    {
      "cell_type": "markdown",
      "metadata": {
        "id": "view-in-github",
        "colab_type": "text"
      },
      "source": [
        "<a href=\"https://colab.research.google.com/github/VictorGambarini/ColabWorkshop/blob/main/ResBaz2022_GoogleColab.ipynb\" target=\"_parent\"><img src=\"https://colab.research.google.com/assets/colab-badge.svg\" alt=\"Open In Colab\"/></a>"
      ]
    },
    {
      "cell_type": "markdown",
      "source": [
        "![logo](https://dl.dropboxusercontent.com/s/jp3tzguihfnfre3/Logo.png?dl=0)\n"
      ],
      "metadata": {
        "id": "6mrr22yu23bH"
      }
    },
    {
      "cell_type": "markdown",
      "source": [
        "# Colab basics"
      ],
      "metadata": {
        "id": "Gq2bgmv1x71a"
      }
    },
    {
      "cell_type": "markdown",
      "source": [
        "## GUI overview"
      ],
      "metadata": {
        "id": "GWzdUx9_x-qT"
      }
    },
    {
      "cell_type": "code",
      "source": [
        "Connecting = False #@param {type:\"boolean\"}\n",
        "\n",
        "Types_of_cells = False #@param {type:\"boolean\"}\n",
        "\n",
        "RAM_and_Disk = False #@param {type:\"boolean\"}\n",
        "\n",
        "Change_runtime_type = False #@param {type:\"boolean\"}\n",
        "\n",
        "Side_menu = False #@param {type:\"boolean\"}\n",
        "\n",
        "Table_of_contents = False #@param {type:\"boolean\"}\n",
        "\n",
        "Find_and_replace = False #@param {type:\"boolean\"}\n",
        "\n",
        "Variables = False #@param {type:\"boolean\"}\n",
        "\n",
        "Files = False #@param {type:\"boolean\"}\n",
        "\n",
        "Code_Snippets = False #@param {type:\"boolean\"}\n",
        "\n",
        "Command_palette = False #@param {type:\"boolean\"}\n",
        "\n",
        "Terminal = False #@param {type:\"boolean\"}\n",
        "\n",
        "\n"
      ],
      "metadata": {
        "id": "urAhxeAeVBAr"
      },
      "execution_count": null,
      "outputs": []
    },
    {
      "cell_type": "code",
      "source": [
        "# Check what GPU you got\n",
        "!nvidia-smi"
      ],
      "metadata": {
        "id": "GNcpqmS-ZezC"
      },
      "execution_count": null,
      "outputs": []
    },
    {
      "cell_type": "markdown",
      "source": [
        "## Loading and installing packages"
      ],
      "metadata": {
        "id": "5YgBkUhNyeyN"
      }
    },
    {
      "cell_type": "code",
      "source": [
        "# Load an installed package\n",
        "import pandas as pd"
      ],
      "metadata": {
        "id": "y6AynkLqDWBR"
      },
      "execution_count": null,
      "outputs": []
    },
    {
      "cell_type": "code",
      "source": [
        "# Use imported package\n",
        "df = pd.DataFrame([10,20,30,40], columns=['Numbers'])\n",
        "df"
      ],
      "metadata": {
        "id": "SOfYM7NS7RU2"
      },
      "execution_count": null,
      "outputs": []
    },
    {
      "cell_type": "code",
      "source": [
        "# List all installed packages\n",
        "!pip freeze"
      ],
      "metadata": {
        "id": "FFjPhHJg7I5u"
      },
      "execution_count": null,
      "outputs": []
    },
    {
      "cell_type": "code",
      "source": [
        "# Install new package by using system level commands\n",
        "!pip install resbaz"
      ],
      "metadata": {
        "id": "KwMlZO0MDY3x"
      },
      "execution_count": null,
      "outputs": []
    },
    {
      "cell_type": "markdown",
      "source": [
        "## Running system commands"
      ],
      "metadata": {
        "id": "GyZ0iOh-yiRY"
      }
    },
    {
      "cell_type": "code",
      "source": [
        "# List files in the current directory\n",
        "!ls"
      ],
      "metadata": {
        "id": "-36qvWDuHjcQ"
      },
      "execution_count": null,
      "outputs": []
    },
    {
      "cell_type": "code",
      "source": [
        "!ls sample_data"
      ],
      "metadata": {
        "id": "CZ6odq7u8mpF"
      },
      "execution_count": null,
      "outputs": []
    },
    {
      "cell_type": "code",
      "source": [
        "df = pd.read_csv(\"sample_data/california_housing_test.csv\")\n",
        "df"
      ],
      "metadata": {
        "id": "uhsjpvF28Yf0"
      },
      "execution_count": null,
      "outputs": []
    },
    {
      "cell_type": "code",
      "source": [
        "# Create a folder\n",
        "!mkdir ResBaz"
      ],
      "metadata": {
        "id": "5hCVGSmbKtGP"
      },
      "execution_count": null,
      "outputs": []
    },
    {
      "cell_type": "code",
      "source": [
        "# List files again\n",
        "!ls"
      ],
      "metadata": {
        "id": "nF1iNwdTKwtv"
      },
      "execution_count": null,
      "outputs": []
    },
    {
      "cell_type": "code",
      "source": [
        "# Use bash tools such as echo\n",
        "!echo \"Hello world!\""
      ],
      "metadata": {
        "id": "EiLNlLWfT1WC"
      },
      "execution_count": null,
      "outputs": []
    },
    {
      "cell_type": "code",
      "source": [
        "# Use pipe on bash\n",
        "!echo \"Hello world!\" | sed s/\"world!\"/\"ResBaz people!\"/g"
      ],
      "metadata": {
        "id": "5bqa7qwKK1QH"
      },
      "execution_count": null,
      "outputs": []
    },
    {
      "cell_type": "code",
      "source": [
        "# Run top to display processes\n",
        "!top"
      ],
      "metadata": {
        "id": "sPPeLdzWLhmE"
      },
      "execution_count": null,
      "outputs": []
    },
    {
      "cell_type": "code",
      "source": [
        "# Install software\n",
        "# Install neofetch, a command-line system information tool\n",
        "!apt install neofetch"
      ],
      "metadata": {
        "id": "stLLlnV6MxVO"
      },
      "execution_count": null,
      "outputs": []
    },
    {
      "cell_type": "code",
      "source": [
        "# Run recently installed software\n",
        "!neofetch"
      ],
      "metadata": {
        "id": "IgA9BwwpMKDm"
      },
      "execution_count": null,
      "outputs": []
    },
    {
      "cell_type": "markdown",
      "source": [
        "## Magic commands"
      ],
      "metadata": {
        "id": "t2SRMnmKJpzg"
      }
    },
    {
      "cell_type": "code",
      "source": [
        "%lsmagic"
      ],
      "metadata": {
        "id": "-gjtCHVjYwiW"
      },
      "execution_count": null,
      "outputs": []
    },
    {
      "cell_type": "code",
      "source": [
        "%%timeit\n",
        "for i in range(1000):\n",
        "  for n in range(1000):\n",
        "    n = i*n"
      ],
      "metadata": {
        "id": "URk_W5MSJ70G"
      },
      "execution_count": null,
      "outputs": []
    },
    {
      "cell_type": "code",
      "source": [
        "%%javascript\n",
        "console.log(\"This message came from javascript, hello ResBaz people!\")"
      ],
      "metadata": {
        "id": "RFsJi9aPJuOP"
      },
      "execution_count": null,
      "outputs": []
    },
    {
      "cell_type": "code",
      "source": [
        "# R maginc is not up by default, but can be loaded with:\n",
        "# New version 3.5.5 is broken, so I'm replacing it by 3.5.1, it may be fixed in the future and it should no be necessary\n",
        "!pip install rpy2==3.5.1\n",
        "%load_ext rpy2.ipython"
      ],
      "metadata": {
        "id": "vdPIARv4aZYv"
      },
      "execution_count": null,
      "outputs": []
    },
    {
      "cell_type": "code",
      "source": [
        "# Use R magic to run R code\n",
        "%%R\n",
        "\n",
        "# Load ggplot2\n",
        "library(ggplot2)\n",
        "\n",
        "# Create data\n",
        "df <- data.frame(name=c(\"A\",\"B\",\"C\",\"D\",\"E\"), value=c(3,12,5,18,45))\n",
        "\n",
        "# Barplot\n",
        "ggplot(df, aes(x=name, y=value)) + \n",
        "  geom_bar(stat = \"identity\")"
      ],
      "metadata": {
        "id": "Cf6Po6dpaCDp"
      },
      "execution_count": null,
      "outputs": []
    },
    {
      "cell_type": "markdown",
      "source": [
        "## Input files"
      ],
      "metadata": {
        "id": "3VoUhNz8x-t7"
      }
    },
    {
      "cell_type": "markdown",
      "source": [
        "### Direct upload"
      ],
      "metadata": {
        "id": "VeT410B22VRm"
      }
    },
    {
      "cell_type": "markdown",
      "source": [
        "Just click on the folder icon on the left side menu and click in the upload button."
      ],
      "metadata": {
        "id": "wLyQX-JLYImw"
      }
    },
    {
      "cell_type": "markdown",
      "source": [
        "### Load from link"
      ],
      "metadata": {
        "id": "dkddkGeD2cQb"
      }
    },
    {
      "cell_type": "markdown",
      "source": [
        "Zrimec et al., 2021. Plastic-degrading potential across the global microbiome correlates with recent pollution trends: https://doi.org/10.1128/mBio.02155-21\n",
        "\n",
        "\n",
        "![plastic_ocean_paper](https://dl.dropboxusercontent.com/s/1z06omibmxyp5kj/plastic_oceans_paper.png?dl=0)\n",
        "\n",
        "Made data available on Zenodo On suplementary material: https://doi.org/10.5281/zenodo.5112372\n",
        "\n",
        "![zenodo](https://dl.dropboxusercontent.com/s/5rpp0qngpkxk68g/zenodo.png?dl=0)"
      ],
      "metadata": {
        "id": "m2NDmLgFFkOm"
      }
    },
    {
      "cell_type": "code",
      "source": [
        "# Import dataset with number of hits for genes for plastic biodegradation\n",
        "import pandas as pd\n",
        "df = pd.read_csv(\"https://zenodo.org/record/5112372/files/Dataset_hits.csv?download=1\")\n",
        "df.head()"
      ],
      "metadata": {
        "id": "kzh-R4l8-rYg"
      },
      "execution_count": null,
      "outputs": []
    },
    {
      "cell_type": "code",
      "source": [
        "import seaborn as sns\n",
        "sns.countplot(df.plastic)"
      ],
      "metadata": {
        "id": "U-NbE7VLER6e"
      },
      "execution_count": null,
      "outputs": []
    },
    {
      "cell_type": "markdown",
      "source": [
        "### Mount Google Drive"
      ],
      "metadata": {
        "id": "r90DKazf2f_U"
      }
    },
    {
      "cell_type": "code",
      "source": [
        "from google.colab import drive\n",
        "drive.mount('/content/drive')"
      ],
      "metadata": {
        "id": "HYgGscaTHAMQ"
      },
      "execution_count": null,
      "outputs": []
    },
    {
      "cell_type": "code",
      "source": [
        "!ls /content/drive/MyDrive/CeR/ResBaz/2022/Colab"
      ],
      "metadata": {
        "id": "6DT7GGvOOZLG"
      },
      "execution_count": null,
      "outputs": []
    },
    {
      "cell_type": "markdown",
      "source": [
        "### Mount Dropbox"
      ],
      "metadata": {
        "id": "4jyl9QMS2jdW"
      }
    },
    {
      "cell_type": "code",
      "source": [
        "# Create a folder to mount the drive\n",
        "!mkdir mydropbox\n",
        "\n",
        "# Install dbxfs package\n",
        "!pip3 install dbxfs\n",
        "\n",
        "# Mount Dropbox into mydropbox folder\n",
        "!dbxfs mydropbox"
      ],
      "metadata": {
        "id": "zF8PFtiW8TUZ"
      },
      "execution_count": null,
      "outputs": []
    },
    {
      "cell_type": "code",
      "source": [
        "# List the files in the dropbox folder\n",
        "!ls -lh mydropbox/CeR/ResBaz/2022/GoogleColab"
      ],
      "metadata": {
        "id": "igWsFT-5_DQM"
      },
      "execution_count": null,
      "outputs": []
    },
    {
      "cell_type": "code",
      "source": [
        "# Example of opening a file that is in Dropbox\n",
        "with open(\"mydropbox/CeR/ResBaz/2022/GoogleColab/I_sakaiensis.faa\") as f:\n",
        "  f = f.readlines()\n",
        "  print(f)"
      ],
      "metadata": {
        "id": "iyxW3Z9P9hca"
      },
      "execution_count": null,
      "outputs": []
    },
    {
      "cell_type": "markdown",
      "source": [
        "## Output files"
      ],
      "metadata": {
        "id": "Bw8MMM_QKTkP"
      }
    },
    {
      "cell_type": "code",
      "source": [
        "!ls mydropbox/CeR/ResBaz/2022/GoogleColab"
      ],
      "metadata": {
        "id": "2AhrN_mvAzxb"
      },
      "execution_count": null,
      "outputs": []
    },
    {
      "cell_type": "code",
      "source": [
        "# Example of saving to a file\n",
        "with open(\"mydropbox/CeR/ResBaz/2022/GoogleColab/colabtest.txt\", \"w\") as f:\n",
        "  f.write(\"\"\"Year\\tGoogle Scholar results\n",
        "2017\\t18\n",
        "2018\\t95\n",
        "2019\\t683\n",
        "2020\\t2640\n",
        "2021\\t6070\n",
        "2022\\t4960\"\"\")"
      ],
      "metadata": {
        "id": "rTOCtFRY_uYi"
      },
      "execution_count": null,
      "outputs": []
    },
    {
      "cell_type": "code",
      "source": [
        "!ls mydropbox/CeR/ResBaz/2022/GoogleColab"
      ],
      "metadata": {
        "id": "rNyXD3ZvBFCj"
      },
      "execution_count": null,
      "outputs": []
    },
    {
      "cell_type": "code",
      "source": [
        "df = pd.read_csv(\"mydropbox/CeR/ResBaz/2022/GoogleColab/colabtest.txt\", sep=\"\\t\")\n",
        "df"
      ],
      "metadata": {
        "id": "-jxtEcCxLwxs"
      },
      "execution_count": null,
      "outputs": []
    },
    {
      "cell_type": "code",
      "source": [
        "sns.barplot(x=df[\"Year\"], y=df[\"Google Scholar results\"])"
      ],
      "metadata": {
        "id": "YGfdAKeKMT3F"
      },
      "execution_count": null,
      "outputs": []
    },
    {
      "cell_type": "markdown",
      "source": [
        "# Markdown"
      ],
      "metadata": {
        "id": "ziu7CpDax-1r"
      }
    },
    {
      "cell_type": "markdown",
      "source": [
        "## Subtitle"
      ],
      "metadata": {
        "id": "FmKknbQ_5pkW"
      }
    },
    {
      "cell_type": "markdown",
      "source": [
        "### Subsubtitle"
      ],
      "metadata": {
        "id": "SQ-NeKzj58Pu"
      }
    },
    {
      "cell_type": "markdown",
      "source": [
        "#### Subsubsubtitle"
      ],
      "metadata": {
        "id": "cT4d1WT85tm2"
      }
    },
    {
      "cell_type": "markdown",
      "source": [
        "## Form fields"
      ],
      "metadata": {
        "id": "D9zWOX_c6Hh9"
      }
    },
    {
      "cell_type": "code",
      "source": [
        "#@title Example form fields\n",
        "#@markdown Forms support many types of fields.\n",
        "\n",
        "no_type_checking = dfgdfgdfgdfg  #@param\n",
        "string_type = 'dfgdfgdfg'  #@param {type: \"string\"}\n",
        "slider_value = 168  #@param {type: \"slider\", min: 100, max: 200}\n",
        "number = 1022  #@param {type: \"number\"}\n",
        "date = '2010-11-24'  #@param {type: \"date\"}\n",
        "pick_me = \"wednesday\"  #@param ['monday', 'tuesday', 'wednesday', 'thursday']\n",
        "select_or_input = \"bananas\" #@param [\"apples\", \"bananas\", \"oranges\"] {allow-input: true}\n",
        "#@markdown ---"
      ],
      "metadata": {
        "id": "qUyvtMVYxpG2"
      },
      "execution_count": null,
      "outputs": []
    },
    {
      "cell_type": "markdown",
      "source": [
        "## Exporting Jupyter notebook"
      ],
      "metadata": {
        "id": "sKmHXSnsyo5L"
      }
    },
    {
      "cell_type": "markdown",
      "source": [
        "File > Download\n",
        "\n",
        "File > Save a copy"
      ],
      "metadata": {
        "id": "9KxpTZZMCIVL"
      }
    },
    {
      "cell_type": "markdown",
      "source": [
        "# Certificate"
      ],
      "metadata": {
        "id": "rGHXxd9myRqt"
      }
    },
    {
      "cell_type": "markdown",
      "source": [
        "Add your name into this spreadsheet: https://docs.google.com/spreadsheets/d/1MUlHNAjZ_n40ciSW4f0enZgnz2AG5ilI/edit?usp=sharing&ouid=102048966144000145934&rtpof=true&sd=true"
      ],
      "metadata": {
        "id": "6-WLMacdkJ0i"
      }
    },
    {
      "cell_type": "code",
      "source": [
        "# Install ResBaz package\n",
        "!pip install resbaz"
      ],
      "metadata": {
        "id": "841_vyRfEuRz"
      },
      "execution_count": null,
      "outputs": []
    },
    {
      "cell_type": "code",
      "source": [
        "# Import certificate module from resbaz package\n",
        "import resbaz.certificate as resbaz"
      ],
      "metadata": {
        "id": "VtdaL0Pb5ZrR"
      },
      "execution_count": null,
      "outputs": []
    },
    {
      "cell_type": "code",
      "source": [
        "# Put your name to generate certificate\n",
        "resbaz.get_certificate(\"Victor Gambarini\")"
      ],
      "metadata": {
        "id": "52iUVj1XEyg9"
      },
      "execution_count": null,
      "outputs": []
    }
  ]
}